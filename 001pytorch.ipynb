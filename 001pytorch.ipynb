{
  "nbformat": 4,
  "nbformat_minor": 0,
  "metadata": {
    "colab": {
      "provenance": [],
      "authorship_tag": "ABX9TyOFcdu+SK0zitqS6YPzwSgI",
      "include_colab_link": true
    },
    "kernelspec": {
      "name": "python3",
      "display_name": "Python 3"
    },
    "language_info": {
      "name": "python"
    }
  },
  "cells": [
    {
      "cell_type": "markdown",
      "metadata": {
        "id": "view-in-github",
        "colab_type": "text"
      },
      "source": [
        "<a href=\"https://colab.research.google.com/github/yogi2034/Deep-Learning/blob/main/001pytorch.ipynb\" target=\"_parent\"><img src=\"https://colab.research.google.com/assets/colab-badge.svg\" alt=\"Open In Colab\"/></a>"
      ]
    },
    {
      "cell_type": "markdown",
      "source": [
        "Plans for this chapter\n",
        "\n",
        "-Data (prepare and load )\n",
        "\n",
        "-build a model\n",
        "\n",
        "-fitting the model to the data\n",
        "\n",
        "-make prediction and evaluate\n",
        "\n",
        "-Save and load\n",
        "\n",
        "-putting it all together"
      ],
      "metadata": {
        "id": "CgCfuwPQYOzd"
      }
    },
    {
      "cell_type": "code",
      "source": [
        "import torch\n",
        "from torch import nn\n",
        "import matplotlib.pyplot as plt\n",
        "\n",
        "torch.__version__"
      ],
      "metadata": {
        "colab": {
          "base_uri": "https://localhost:8080/",
          "height": 35
        },
        "id": "L5mInB0BfEd2",
        "outputId": "c6b9e4c0-934d-4dc7-809c-b6bb9b19eceb"
      },
      "execution_count": null,
      "outputs": [
        {
          "output_type": "execute_result",
          "data": {
            "text/plain": [
              "'2.6.0+cu124'"
            ],
            "application/vnd.google.colaboratory.intrinsic+json": {
              "type": "string"
            }
          },
          "metadata": {},
          "execution_count": 138
        }
      ]
    },
    {
      "cell_type": "markdown",
      "source": [
        "We will use linear regression which uses known Parameters to 'll use linear regression to create the data with known parameters (things that can be learned by a model) and then we'll use PyTorch to see if we can build model to estimate these parameters using gradient descent."
      ],
      "metadata": {
        "id": "0fFgIE5cferg"
      }
    },
    {
      "cell_type": "code",
      "source": [
        "# create known param\n",
        "w=0.7\n",
        "b=0.3\n",
        "\n",
        "# create\n",
        "start =0\n",
        "end =1\n",
        "step = 0.02\n",
        "X=torch.arange(start,end,step).unsqueeze(dim=1)\n",
        "Y=w*X+b\n",
        "\n",
        "X[:10],Y[:10],len(X),len(Y)\n"
      ],
      "metadata": {
        "colab": {
          "base_uri": "https://localhost:8080/"
        },
        "id": "jaSOJ2DBhnJj",
        "outputId": "0f167dc3-b92b-41ee-c519-b8c8d22e4edd"
      },
      "execution_count": null,
      "outputs": [
        {
          "output_type": "execute_result",
          "data": {
            "text/plain": [
              "(tensor([[0.0000],\n",
              "         [0.0200],\n",
              "         [0.0400],\n",
              "         [0.0600],\n",
              "         [0.0800],\n",
              "         [0.1000],\n",
              "         [0.1200],\n",
              "         [0.1400],\n",
              "         [0.1600],\n",
              "         [0.1800]]),\n",
              " tensor([[0.3000],\n",
              "         [0.3140],\n",
              "         [0.3280],\n",
              "         [0.3420],\n",
              "         [0.3560],\n",
              "         [0.3700],\n",
              "         [0.3840],\n",
              "         [0.3980],\n",
              "         [0.4120],\n",
              "         [0.4260]]),\n",
              " 50,\n",
              " 50)"
            ]
          },
          "metadata": {},
          "execution_count": 139
        }
      ]
    },
    {
      "cell_type": "markdown",
      "source": [
        "# Split"
      ],
      "metadata": {
        "id": "Jz9SgFvoiipZ"
      }
    },
    {
      "cell_type": "code",
      "source": [
        "train_set =int(0.8*len(X))\n",
        "X_train ,Y_train=X[:train_set],Y[:train_set]\n",
        "\n",
        "X_test,Y_test=X[train_set:],Y[train_set:]\n",
        "len(X_train),len(Y_train),len(X_test),len(Y_test)"
      ],
      "metadata": {
        "colab": {
          "base_uri": "https://localhost:8080/"
        },
        "id": "MokqFXhFna15",
        "outputId": "4b8f7e90-cc47-415f-d4f8-81e3f6d2bd5a"
      },
      "execution_count": null,
      "outputs": [
        {
          "output_type": "execute_result",
          "data": {
            "text/plain": [
              "(40, 40, 10, 10)"
            ]
          },
          "metadata": {},
          "execution_count": 140
        }
      ]
    },
    {
      "cell_type": "markdown",
      "source": [
        "# Visualize"
      ],
      "metadata": {
        "id": "FOOAS996oWev"
      }
    },
    {
      "cell_type": "code",
      "source": [
        "def plot_predictions(train_data=X_train,\n",
        "                     train_labels=Y_train,\n",
        "                     test_data=X_test,\n",
        "                     test_labels=Y_test,\n",
        "                     predictions=None):\n",
        "  plt.figure(figsize=(7,5))\n",
        "\n",
        "  plt.scatter(train_data,train_labels,c=\"b\",s=10,label=\"Training data\")\n",
        "  plt.scatter(test_data,test_labels,c=\"y\",s=10,label=\"Testing data\")\n",
        "\n",
        "\n",
        "  if predictions is not None:\n",
        "    plt.scatter(test_data,predictions,c=\"r\",s=4,label=\"Predictions\")\n",
        "\n",
        "  plt.legend(prop={\"size\":10})\n",
        "\n",
        "plot_predictions()"
      ],
      "metadata": {
        "colab": {
          "base_uri": "https://localhost:8080/",
          "height": 445
        },
        "id": "N6Te4PQJtF85",
        "outputId": "07aa908e-9b03-4e54-d9db-37db56618663"
      },
      "execution_count": null,
      "outputs": [
        {
          "output_type": "display_data",
          "data": {
            "text/plain": [
              "<Figure size 700x500 with 1 Axes>"
            ],
            "image/png": "[encoded data removed]"
          },
          "metadata": {}
        }
      ]
    },
    {
      "cell_type": "markdown",
      "source": [
        "# Build Model"
      ],
      "metadata": {
        "id": "jPTSoHnr6FnE"
      }
    },
    {
      "cell_type": "markdown",
      "source": [
        "Linear Regression implementation"
      ],
      "metadata": {
        "id": "grtgl-KProZv"
      }
    },
    {
      "cell_type": "code",
      "source": [
        "from torch import nn\n",
        "\n",
        "class LinearRegressionModel(nn.Module):\n",
        "    def __init__(self):\n",
        "        super().__init__()\n",
        "        self.weights =nn.Parameter(torch.randn(1,\n",
        "                                           requires_grad=True,\n",
        "                                           dtype=torch.float))\n",
        "\n",
        "        self.bias=nn.Parameter(torch.randn(1,\n",
        "                                      requires_grad=True,\n",
        "                                      dtype=torch.float))\n",
        "\n",
        "    def forward(self,x:torch.Tensor)->torch.Tensor:\n",
        "        return self.weights*x+self.bias\n",
        "\n",
        "\n"
      ],
      "metadata": {
        "id": "HIUUK95RqGTa"
      },
      "execution_count": null,
      "outputs": []
    },
    {
      "cell_type": "code",
      "source": [],
      "metadata": {
        "id": "CagK8wLwrjZI"
      },
      "execution_count": null,
      "outputs": []
    },
    {
      "cell_type": "code",
      "source": [
        "torch.manual_seed(42)\n",
        "model_0 =LinearRegressionModel()\n",
        "model_0\n",
        "list(model_0.parameters())\n"
      ],
      "metadata": {
        "colab": {
          "base_uri": "https://localhost:8080/"
        },
        "id": "3H7SQaZJ_-44",
        "outputId": "bbe7f04a-5c66-479b-dbe0-3bf75418d7d9"
      },
      "execution_count": null,
      "outputs": [
        {
          "output_type": "execute_result",
          "data": {
            "text/plain": [
              "[Parameter containing:\n",
              " tensor([0.3367], requires_grad=True),\n",
              " Parameter containing:\n",
              " tensor([0.1288], requires_grad=True)]"
            ]
          },
          "metadata": {},
          "execution_count": 143
        }
      ]
    },
    {
      "cell_type": "code",
      "source": [
        "model_0.state_dict()"
      ],
      "metadata": {
        "colab": {
          "base_uri": "https://localhost:8080/"
        },
        "id": "uasWEgxHAYbj",
        "outputId": "6e1fc9b3-45ea-4352-a2fb-4ed411102061"
      },
      "execution_count": null,
      "outputs": [
        {
          "output_type": "execute_result",
          "data": {
            "text/plain": [
              "OrderedDict([('weights', tensor([0.3367])), ('bias', tensor([0.1288]))])"
            ]
          },
          "metadata": {},
          "execution_count": 144
        }
      ]
    },
    {
      "cell_type": "code",
      "source": [
        "with torch.inference_mode():\n",
        "    y_preds=model_0(X_test)\n",
        "y_preds\n",
        "# y_preds=model_0(X_test)"
      ],
      "metadata": {
        "colab": {
          "base_uri": "https://localhost:8080/"
        },
        "id": "e-44R80dBK4V",
        "outputId": "88116e51-cbde-46ba-b241-df4d71973f2a"
      },
      "execution_count": null,
      "outputs": [
        {
          "output_type": "execute_result",
          "data": {
            "text/plain": [
              "tensor([[0.3982],\n",
              "        [0.4049],\n",
              "        [0.4116],\n",
              "        [0.4184],\n",
              "        [0.4251],\n",
              "        [0.4318],\n",
              "        [0.4386],\n",
              "        [0.4453],\n",
              "        [0.4520],\n",
              "        [0.4588]])"
            ]
          },
          "metadata": {},
          "execution_count": 145
        }
      ]
    },
    {
      "cell_type": "code",
      "source": [
        "X_test,Y_test"
      ],
      "metadata": {
        "colab": {
          "base_uri": "https://localhost:8080/"
        },
        "id": "_483PRZTC9cd",
        "outputId": "09cbb801-04b6-4c28-9637-1293fb5ecd0b"
      },
      "execution_count": null,
      "outputs": [
        {
          "output_type": "execute_result",
          "data": {
            "text/plain": [
              "(tensor([[0.8000],\n",
              "         [0.8200],\n",
              "         [0.8400],\n",
              "         [0.8600],\n",
              "         [0.8800],\n",
              "         [0.9000],\n",
              "         [0.9200],\n",
              "         [0.9400],\n",
              "         [0.9600],\n",
              "         [0.9800]]),\n",
              " tensor([[0.8600],\n",
              "         [0.8740],\n",
              "         [0.8880],\n",
              "         [0.9020],\n",
              "         [0.9160],\n",
              "         [0.9300],\n",
              "         [0.9440],\n",
              "         [0.9580],\n",
              "         [0.9720],\n",
              "         [0.9860]]))"
            ]
          },
          "metadata": {},
          "execution_count": 146
        }
      ]
    },
    {
      "cell_type": "code",
      "source": [
        "plot_predictions(predictions=y_preds)"
      ],
      "metadata": {
        "colab": {
          "base_uri": "https://localhost:8080/",
          "height": 445
        },
        "id": "5A9vp6qPE4s4",
        "outputId": "791be1bb-67a1-4370-9338-641633957255"
      },
      "execution_count": null,
      "outputs": [
        {
          "output_type": "display_data",
          "data": {
            "text/plain": [
              "<Figure size 700x500 with 1 Axes>"
            ],
            "image/png": "[encoded data removed]"
          },
          "metadata": {}
        }
      ]
    },
    {
      "cell_type": "code",
      "source": [
        "model_0.state_dict()"
      ],
      "metadata": {
        "colab": {
          "base_uri": "https://localhost:8080/"
        },
        "id": "TlSh8vxfIZxb",
        "outputId": "dbf0451d-df96-44b6-e9bb-523562040f97"
      },
      "execution_count": null,
      "outputs": [
        {
          "output_type": "execute_result",
          "data": {
            "text/plain": [
              "OrderedDict([('weights', tensor([0.3367])), ('bias', tensor([0.1288]))])"
            ]
          },
          "metadata": {},
          "execution_count": 148
        }
      ]
    },
    {
      "cell_type": "code",
      "source": [
        "loss_fn=nn.L1Loss()\n",
        "loss_fn\n",
        "\n",
        "# optmizer\n",
        "optimizer=torch.optim.SGD(params=model_0.parameters(),\n",
        "                          lr=0.01)\n",
        "\n"
      ],
      "metadata": {
        "id": "C6wF0ktRI75o"
      },
      "execution_count": null,
      "outputs": []
    },
    {
      "cell_type": "markdown",
      "source": [
        "**Building a training Loop**"
      ],
      "metadata": {
        "id": "H57KVyWeKV8i"
      }
    },
    {
      "cell_type": "code",
      "source": [
        "list(model_0.eval().parameters())\n"
      ],
      "metadata": {
        "id": "tS2Q7slhPBZS",
        "colab": {
          "base_uri": "https://localhost:8080/"
        },
        "outputId": "1c27f10d-32d8-4750-8fc4-d3fdec065346"
      },
      "execution_count": null,
      "outputs": [
        {
          "output_type": "execute_result",
          "data": {
            "text/plain": [
              "[Parameter containing:\n",
              " tensor([0.3367], requires_grad=True),\n",
              " Parameter containing:\n",
              " tensor([0.1288], requires_grad=True)]"
            ]
          },
          "metadata": {},
          "execution_count": 150
        }
      ]
    },
    {
      "cell_type": "code",
      "source": [
        "epochs=200\n",
        "epoch_count=[]\n",
        "loss_values=[]\n",
        "test_loss_values=[]\n",
        "for epoch in range(epochs):\n",
        "  model_0.train()\n",
        "  # model_0.eval()\n",
        "  y_pred=model_0(X_train)\n",
        "  loss=loss_fn(y_pred,Y_train)\n",
        "  optimizer.zero_grad()\n",
        "  loss.backward()\n",
        "  optimizer.step()\n",
        "  model_0.eval()\n",
        "\n",
        "  with torch.inference_mode():\n",
        "    test_pred=model_0(X_test)\n",
        "    test_loss=loss_fn(test_pred,Y_test)\n",
        "  if(epoch%10==0):\n",
        "    epoch_count.append(epoch)\n",
        "    loss_values.append(loss)\n",
        "    test_loss_values.append(test_loss)\n",
        "    print(f\"Epoch:{epoch}   |Loss:{loss}   |Test Loss:   {test_loss}\")\n",
        "print(model_0.state_dict())\n"
      ],
      "metadata": {
        "id": "uX314qOpOUBM",
        "colab": {
          "base_uri": "https://localhost:8080/"
        },
        "outputId": "22891281-9859-4b49-88d3-99b7a5ef8183"
      },
      "execution_count": null,
      "outputs": [
        {
          "output_type": "stream",
          "name": "stdout",
          "text": [
            "Epoch:0   |Loss:0.31288138031959534   |Test Loss:   0.48106518387794495\n",
            "Epoch:10   |Loss:0.1976713240146637   |Test Loss:   0.3463551998138428\n",
            "Epoch:20   |Loss:0.08908725529909134   |Test Loss:   0.21729660034179688\n",
            "Epoch:30   |Loss:0.053148526698350906   |Test Loss:   0.14464017748832703\n",
            "Epoch:40   |Loss:0.04543796554207802   |Test Loss:   0.11360953003168106\n",
            "Epoch:50   |Loss:0.04167863354086876   |Test Loss:   0.09919948130846024\n",
            "Epoch:60   |Loss:0.03818932920694351   |Test Loss:   0.08886633068323135\n",
            "Epoch:70   |Loss:0.03476089984178543   |Test Loss:   0.0805937647819519\n",
            "Epoch:80   |Loss:0.03132382780313492   |Test Loss:   0.07232122868299484\n",
            "Epoch:90   |Loss:0.02788739837706089   |Test Loss:   0.06473556160926819\n",
            "Epoch:100   |Loss:0.024458957836031914   |Test Loss:   0.05646304413676262\n",
            "Epoch:110   |Loss:0.021020207554101944   |Test Loss:   0.04819049686193466\n",
            "Epoch:120   |Loss:0.01758546568453312   |Test Loss:   0.04060482233762741\n",
            "Epoch:130   |Loss:0.014155393466353416   |Test Loss:   0.03233227878808975\n",
            "Epoch:140   |Loss:0.010716589167714119   |Test Loss:   0.024059748277068138\n",
            "Epoch:150   |Loss:0.0072835334576666355   |Test Loss:   0.016474086791276932\n",
            "Epoch:160   |Loss:0.0038517764769494534   |Test Loss:   0.008201557211577892\n",
            "Epoch:170   |Loss:0.008932482451200485   |Test Loss:   0.005023092031478882\n",
            "Epoch:180   |Loss:0.008932482451200485   |Test Loss:   0.005023092031478882\n",
            "Epoch:190   |Loss:0.008932482451200485   |Test Loss:   0.005023092031478882\n",
            "OrderedDict([('weights', tensor([0.6990])), ('bias', tensor([0.3093]))])\n"
          ]
        }
      ]
    },
    {
      "cell_type": "code",
      "source": [
        "import numpy as np\n",
        "np.array(torch.tensor(loss_values).cpu().numpy()),test_loss_values"
      ],
      "metadata": {
        "colab": {
          "base_uri": "https://localhost:8080/"
        },
        "id": "8JI1amqteUbR",
        "outputId": "b6cbaf65-344b-44ef-badb-d2d906d41f6d"
      },
      "execution_count": null,
      "outputs": [
        {
          "output_type": "execute_result",
          "data": {
            "text/plain": [
              "(array([0.31288138, 0.19767132, 0.08908726, 0.05314853, 0.04543797,\n",
              "        0.04167863, 0.03818933, 0.0347609 , 0.03132383, 0.0278874 ,\n",
              "        0.02445896, 0.02102021, 0.01758547, 0.01415539, 0.01071659,\n",
              "        0.00728353, 0.00385178, 0.00893248, 0.00893248, 0.00893248],\n",
              "       dtype=float32),\n",
              " [tensor(0.4811),\n",
              "  tensor(0.3464),\n",
              "  tensor(0.2173),\n",
              "  tensor(0.1446),\n",
              "  tensor(0.1136),\n",
              "  tensor(0.0992),\n",
              "  tensor(0.0889),\n",
              "  tensor(0.0806),\n",
              "  tensor(0.0723),\n",
              "  tensor(0.0647),\n",
              "  tensor(0.0565),\n",
              "  tensor(0.0482),\n",
              "  tensor(0.0406),\n",
              "  tensor(0.0323),\n",
              "  tensor(0.0241),\n",
              "  tensor(0.0165),\n",
              "  tensor(0.0082),\n",
              "  tensor(0.0050),\n",
              "  tensor(0.0050),\n",
              "  tensor(0.0050)])"
            ]
          },
          "metadata": {},
          "execution_count": 152
        }
      ]
    },
    {
      "cell_type": "code",
      "source": [
        "plt.plot(epoch_count,np.array(torch.tensor(loss_values).cpu().numpy()),label=\"Train Loss\")\n",
        "plt.plot(epoch_count,test_loss_values,label=\"Test Loss\")\n",
        "plt.title(\"Training and Test Loss Curves\")\n",
        "plt.xlabel(\"Epochs\")\n",
        "plt.ylabel(\"Loss\")\n",
        "plt.legend()\n",
        "plt.show()"
      ],
      "metadata": {
        "colab": {
          "base_uri": "https://localhost:8080/",
          "height": 472
        },
        "id": "6OGhdWrleskI",
        "outputId": "2b5c95d9-f330-4573-b8cf-e95bab1389dc"
      },
      "execution_count": null,
      "outputs": [
        {
          "output_type": "display_data",
          "data": {
            "text/plain": [
              "<Figure size 640x480 with 1 Axes>"
            ],
            "image/png": "[encoded data removed]"
          },
          "metadata": {}
        }
      ]
    },
    {
      "cell_type": "code",
      "source": [
        "plot_predictions(predictions=test_pred)"
      ],
      "metadata": {
        "colab": {
          "base_uri": "https://localhost:8080/",
          "height": 445
        },
        "id": "R9OPGZ3XEW6L",
        "outputId": "c508ece1-3496-4db7-a760-683d3a7a73de"
      },
      "execution_count": null,
      "outputs": [
        {
          "output_type": "display_data",
          "data": {
            "text/plain": [
              "<Figure size 700x500 with 1 Axes>"
            ],
            "image/png": "[encoded data removed]"
          },
          "metadata": {}
        }
      ]
    },
    {
      "cell_type": "markdown",
      "source": [
        "## Saving and Load a model"
      ],
      "metadata": {
        "id": "9ILmuK1bC0yp"
      }
    },
    {
      "cell_type": "code",
      "source": [
        "from pathlib import Path\n",
        "\n",
        "MODEL_PATH=Path(\"models\")\n",
        "MODEL_PATH.mkdir(parents=True,exist_ok=True)\n",
        "\n",
        "MODEL_NAME=\"01_PYTORCH_WORKFLOW_MODEL_0.pth\"\n",
        "MODEL_SAVE_PATH=MODEL_PATH/MODEL_NAME\n",
        "\n",
        "print(f\"Saving model to:{MODEL_SAVE_PATH}\")\n",
        "torch.save(obj=model_0.state_dict(),f=MODEL_SAVE_PATH)"
      ],
      "metadata": {
        "id": "QEkDLYsLO-T3",
        "colab": {
          "base_uri": "https://localhost:8080/"
        },
        "outputId": "361f39fd-687c-42cb-cfb2-1f8adaa38ecc"
      },
      "execution_count": null,
      "outputs": [
        {
          "output_type": "stream",
          "name": "stdout",
          "text": [
            "Saving model to:models/01_PYTORCH_WORKFLOW_MODEL_0.pth\n"
          ]
        }
      ]
    },
    {
      "cell_type": "code",
      "source": [
        "!ls -l models"
      ],
      "metadata": {
        "colab": {
          "base_uri": "https://localhost:8080/"
        },
        "id": "jc6cgfHJDBgn",
        "outputId": "50418c44-1d41-4832-9b51-4e322d251826"
      },
      "execution_count": null,
      "outputs": [
        {
          "output_type": "stream",
          "name": "stdout",
          "text": [
            "total 4\n",
            "-rw-r--r-- 1 root root 1680 May  7 07:14 01_PYTORCH_WORKFLOW_MODEL_0.pth\n"
          ]
        }
      ]
    },
    {
      "cell_type": "markdown",
      "source": [
        "# Load"
      ],
      "metadata": {
        "id": "CfZGtxOFIf7-"
      }
    },
    {
      "cell_type": "code",
      "source": [
        "model_0.state_dict()"
      ],
      "metadata": {
        "colab": {
          "base_uri": "https://localhost:8080/"
        },
        "id": "K0TgUxXAJLlQ",
        "outputId": "86125da6-5925-4f43-cb23-09b63175b06e"
      },
      "execution_count": null,
      "outputs": [
        {
          "output_type": "execute_result",
          "data": {
            "text/plain": [
              "OrderedDict([('weights', tensor([0.6990])), ('bias', tensor([0.3093]))])"
            ]
          },
          "metadata": {},
          "execution_count": 157
        }
      ]
    },
    {
      "cell_type": "code",
      "source": [
        "loaded_model_0=LinearRegressionModel()\n",
        "loaded_model_0.load_state_dict(torch.load(f=MODEL_SAVE_PATH))"
      ],
      "metadata": {
        "colab": {
          "base_uri": "https://localhost:8080/"
        },
        "id": "61G24OmNJO7e",
        "outputId": "2756161a-613c-42d4-f0b0-9e845293c860"
      },
      "execution_count": null,
      "outputs": [
        {
          "output_type": "execute_result",
          "data": {
            "text/plain": [
              "<All keys matched successfully>"
            ]
          },
          "metadata": {},
          "execution_count": 158
        }
      ]
    },
    {
      "cell_type": "code",
      "source": [
        "loaded_model_0.state_dict()"
      ],
      "metadata": {
        "colab": {
          "base_uri": "https://localhost:8080/"
        },
        "id": "Ng4Td3WPJdmE",
        "outputId": "480b2949-7efc-4548-ad4b-2356eee99661"
      },
      "execution_count": null,
      "outputs": [
        {
          "output_type": "execute_result",
          "data": {
            "text/plain": [
              "OrderedDict([('weights', tensor([0.6990])), ('bias', tensor([0.3093]))])"
            ]
          },
          "metadata": {},
          "execution_count": 159
        }
      ]
    },
    {
      "cell_type": "code",
      "source": [
        "\n",
        "loaded_model_0.eval()\n",
        "with torch.inference_mode():\n",
        "  loaded_model_preds=loaded_model_0(X_test)\n",
        "\n",
        "\n",
        "loaded_model_preds\n"
      ],
      "metadata": {
        "colab": {
          "base_uri": "https://localhost:8080/"
        },
        "id": "bwscY-MxKXHa",
        "outputId": "7331544a-dcf3-402d-f312-59a98dbd77cc"
      },
      "execution_count": null,
      "outputs": [
        {
          "output_type": "execute_result",
          "data": {
            "text/plain": [
              "tensor([[0.8685],\n",
              "        [0.8825],\n",
              "        [0.8965],\n",
              "        [0.9105],\n",
              "        [0.9245],\n",
              "        [0.9384],\n",
              "        [0.9524],\n",
              "        [0.9664],\n",
              "        [0.9804],\n",
              "        [0.9944]])"
            ]
          },
          "metadata": {},
          "execution_count": 160
        }
      ]
    },
    {
      "cell_type": "code",
      "source": [
        "y_preds==loaded_model_preds"
      ],
      "metadata": {
        "colab": {
          "base_uri": "https://localhost:8080/"
        },
        "id": "zQJq_u9wMmNI",
        "outputId": "2d72b1c8-6911-4551-f583-5fb817f4f86f"
      },
      "execution_count": null,
      "outputs": [
        {
          "output_type": "execute_result",
          "data": {
            "text/plain": [
              "tensor([[False],\n",
              "        [False],\n",
              "        [False],\n",
              "        [False],\n",
              "        [False],\n",
              "        [False],\n",
              "        [False],\n",
              "        [False],\n",
              "        [False],\n",
              "        [False]])"
            ]
          },
          "metadata": {},
          "execution_count": 161
        }
      ]
    },
    {
      "cell_type": "code",
      "source": [
        "model_0.eval()\n",
        "with torch.inference_mode():\n",
        "  y_preds=model_0(X_test)\n",
        "y_preds"
      ],
      "metadata": {
        "colab": {
          "base_uri": "https://localhost:8080/"
        },
        "id": "IAv0ttzDM21p",
        "outputId": "0fcd51c3-0c1f-4330-dac4-4ed4244f2437"
      },
      "execution_count": null,
      "outputs": [
        {
          "output_type": "execute_result",
          "data": {
            "text/plain": [
              "tensor([[0.8685],\n",
              "        [0.8825],\n",
              "        [0.8965],\n",
              "        [0.9105],\n",
              "        [0.9245],\n",
              "        [0.9384],\n",
              "        [0.9524],\n",
              "        [0.9664],\n",
              "        [0.9804],\n",
              "        [0.9944]])"
            ]
          },
          "metadata": {},
          "execution_count": 162
        }
      ]
    },
    {
      "cell_type": "code",
      "source": [
        "y_preds==loaded_model_preds"
      ],
      "metadata": {
        "colab": {
          "base_uri": "https://localhost:8080/"
        },
        "id": "CuPR8QZ4NUuf",
        "outputId": "50649814-1c2c-4e62-d155-72d7b51249f1"
      },
      "execution_count": null,
      "outputs": [
        {
          "output_type": "execute_result",
          "data": {
            "text/plain": [
              "tensor([[True],\n",
              "        [True],\n",
              "        [True],\n",
              "        [True],\n",
              "        [True],\n",
              "        [True],\n",
              "        [True],\n",
              "        [True],\n",
              "        [True],\n",
              "        [True]])"
            ]
          },
          "metadata": {},
          "execution_count": 163
        }
      ]
    },
    {
      "cell_type": "markdown",
      "source": [
        "# A li'l summary"
      ],
      "metadata": {
        "id": "Ny2zMeMRNbIn"
      }
    },
    {
      "cell_type": "code",
      "source": [
        " import torch\n",
        " from torch import nn\n",
        " import matplotlib.pyplot as plt\n",
        "\n",
        " torch.__version__"
      ],
      "metadata": {
        "colab": {
          "base_uri": "https://localhost:8080/",
          "height": 35
        },
        "id": "xPbHKozEO_Bc",
        "outputId": "c7e9fe43-cf4c-4040-f38c-eae011012add"
      },
      "execution_count": null,
      "outputs": [
        {
          "output_type": "execute_result",
          "data": {
            "text/plain": [
              "'2.6.0+cu124'"
            ],
            "application/vnd.google.colaboratory.intrinsic+json": {
              "type": "string"
            }
          },
          "metadata": {},
          "execution_count": 164
        }
      ]
    },
    {
      "cell_type": "code",
      "source": [
        "device='cuda' if torch.cuda.is_available() else \"cpu\"\n",
        "print(f\"Device:{device}\")"
      ],
      "metadata": {
        "id": "Fr19PRtPPTMA",
        "colab": {
          "base_uri": "https://localhost:8080/"
        },
        "outputId": "37a68870-81ac-4622-da44-9e0efdf5ff0a"
      },
      "execution_count": null,
      "outputs": [
        {
          "output_type": "stream",
          "name": "stdout",
          "text": [
            "Device:cpu\n"
          ]
        }
      ]
    },
    {
      "cell_type": "code",
      "source": [
        "w=0.7\n",
        "b=0.3\n",
        "\n",
        "start = 0\n",
        "end=1\n",
        "step =0.01\n",
        "X= torch.arange(start,end,step).unsqueeze(1)\n",
        "y=w*X+b"
      ],
      "metadata": {
        "id": "hwb-1LuTCvbD"
      },
      "execution_count": null,
      "outputs": []
    },
    {
      "cell_type": "code",
      "source": [
        "train_split=int(0.8*len(X))\n",
        "X_train,y_train=X[:train_split],y[:train_split]\n",
        "X_test,y_test=X[train_split:],y[train_split:]\n",
        "len(X_train),len(y_train),len(X_test),len(y_test)\n"
      ],
      "metadata": {
        "colab": {
          "base_uri": "https://localhost:8080/"
        },
        "id": "KbbVucOVDzuf",
        "outputId": "2de2fb70-e8fa-41ec-9101-c8b2189bd184"
      },
      "execution_count": null,
      "outputs": [
        {
          "output_type": "execute_result",
          "data": {
            "text/plain": [
              "(80, 80, 20, 20)"
            ]
          },
          "metadata": {},
          "execution_count": 167
        }
      ]
    },
    {
      "cell_type": "code",
      "source": [
        "plot_predictions(predictions=None)"
      ],
      "metadata": {
        "colab": {
          "base_uri": "https://localhost:8080/",
          "height": 445
        },
        "id": "MBlce9ZpE75T",
        "outputId": "9639fe8f-fef7-4f98-d846-da1b65e26262"
      },
      "execution_count": null,
      "outputs": [
        {
          "output_type": "display_data",
          "data": {
            "text/plain": [
              "<Figure size 700x500 with 1 Axes>"
            ],
            "image/png": "[encoded data removed]"
          },
          "metadata": {}
        }
      ]
    },
    {
      "cell_type": "code",
      "source": [
        "from torch import nn\n",
        "class LinearReg(nn.Module):\n",
        "  def __init__(self):\n",
        "    super().__init__()\n",
        "    # self.weights=nn.parameter(torch.rand(1,\n",
        "    #                                      requires_grad=True,\n",
        "    #                                      dtype=torch.float))\n",
        "    # self.bias=nn.parameter(torch.rand(1,\n",
        "    #                                   requires_grad=True\n",
        "    #                                   dtype=torch.float))\n",
        "    self.linear_layer=nn.Linear(in_features=1,out_features=1)\n",
        "\n",
        "  def forward(self,x:torch.Tensor)->torch.Tensor:\n",
        "    return self.linear_layer(x)\n",
        "\n",
        "torch.manual_seed(42)\n",
        "model_1=LinearReg()\n",
        "model_1.state_dict()"
      ],
      "metadata": {
        "colab": {
          "base_uri": "https://localhost:8080/"
        },
        "id": "eT-wXkOPFL7O",
        "outputId": "6424b264-b77c-4351-9fce-0cb5be648022"
      },
      "execution_count": null,
      "outputs": [
        {
          "output_type": "execute_result",
          "data": {
            "text/plain": [
              "OrderedDict([('linear_layer.weight', tensor([[0.7645]])),\n",
              "             ('linear_layer.bias', tensor([0.8300]))])"
            ]
          },
          "metadata": {},
          "execution_count": 169
        }
      ]
    },
    {
      "cell_type": "code",
      "source": [
        "model_1.to(device)\n",
        "next(model_1.parameters()) .device\n"
      ],
      "metadata": {
        "colab": {
          "base_uri": "https://localhost:8080/"
        },
        "id": "6OxD9KdeJ5-H",
        "outputId": "7a9fa677-722d-46cb-de5c-c15a4f4f0325"
      },
      "execution_count": null,
      "outputs": [
        {
          "output_type": "execute_result",
          "data": {
            "text/plain": [
              "device(type='cpu')"
            ]
          },
          "metadata": {},
          "execution_count": 170
        }
      ]
    },
    {
      "cell_type": "code",
      "source": [
        "loss_fn=nn.L1Loss()\n",
        "\n",
        "optimizer=torch.optim.SGD(params=model_1.parameters(),lr=0.01)\n"
      ],
      "metadata": {
        "id": "7izp8EbnN7Yx"
      },
      "execution_count": null,
      "outputs": []
    },
    {
      "cell_type": "code",
      "source": [
        "torch.manual_seed(42)\n",
        "epochs= 200\n",
        "\n",
        "for epoch in range(epochs):\n",
        "  model_1.train()\n",
        "\n",
        "  y_pred= model_1(X_train)\n",
        "  loss= loss_fn(y_pred,y_train)\n",
        "  optimizer.zero_grad()\n",
        "  loss.backward()\n",
        "  optimizer.step()\n",
        "\n",
        "  model_1.eval()\n",
        "  with  torch.inference_mode():\n",
        "    test_pred=model_1(X_test)\n",
        "    test_loss=loss_fn(test_pred,y_test)\n",
        "\n",
        "\n",
        "  if epoch%10==0:\n",
        "    print(f\"epoch:{epoch} |Loss:{loss} |Test Loss :{test_loss}\")\n"
      ],
      "metadata": {
        "colab": {
          "base_uri": "https://localhost:8080/"
        },
        "id": "P-p44tD3PCm3",
        "outputId": "ec28c222-8771-4559-9c78-9f8052700dff"
      },
      "execution_count": null,
      "outputs": [
        {
          "output_type": "stream",
          "name": "stdout",
          "text": [
            "epoch:0 |Loss:0.5555006265640259 |Test Loss :0.5742346048355103\n",
            "epoch:10 |Loss:0.43989819288253784 |Test Loss :0.4388822615146637\n",
            "epoch:20 |Loss:0.3242958188056946 |Test Loss :0.30352982878685\n",
            "epoch:30 |Loss:0.20869341492652893 |Test Loss :0.16817744076251984\n",
            "epoch:40 |Loss:0.09309100359678268 |Test Loss :0.0328250378370285\n",
            "epoch:50 |Loss:0.024206461384892464 |Test Loss :0.04891900345683098\n",
            "epoch:60 |Loss:0.020295290276408195 |Test Loss :0.04614274203777313\n",
            "epoch:70 |Loss:0.01686828024685383 |Test Loss :0.03849516063928604\n",
            "epoch:80 |Loss:0.01344125997275114 |Test Loss :0.030847568064928055\n",
            "epoch:90 |Loss:0.010015219449996948 |Test Loss :0.022855961695313454\n",
            "epoch:100 |Loss:0.006589989177882671 |Test Loss :0.014520359225571156\n",
            "epoch:110 |Loss:0.003164681838825345 |Test Loss :0.006877091713249683\n",
            "epoch:120 |Loss:0.006687174551188946 |Test Loss :0.009153103455901146\n",
            "epoch:130 |Loss:0.006687174551188946 |Test Loss :0.009153103455901146\n",
            "epoch:140 |Loss:0.006687174551188946 |Test Loss :0.009153103455901146\n",
            "epoch:150 |Loss:0.006687174551188946 |Test Loss :0.009153103455901146\n",
            "epoch:160 |Loss:0.006687174551188946 |Test Loss :0.009153103455901146\n",
            "epoch:170 |Loss:0.006687174551188946 |Test Loss :0.009153103455901146\n",
            "epoch:180 |Loss:0.006687174551188946 |Test Loss :0.009153103455901146\n",
            "epoch:190 |Loss:0.006687174551188946 |Test Loss :0.009153103455901146\n"
          ]
        }
      ]
    },
    {
      "cell_type": "code",
      "source": [
        "model_1.state_dict()"
      ],
      "metadata": {
        "colab": {
          "base_uri": "https://localhost:8080/"
        },
        "id": "P0bkgkNCR-XS",
        "outputId": "02b170cd-c860-42fd-b16d-3f9d75fdab3c"
      },
      "execution_count": null,
      "outputs": [
        {
          "output_type": "execute_result",
          "data": {
            "text/plain": [
              "OrderedDict([('linear_layer.weight', tensor([[0.6954]])),\n",
              "             ('linear_layer.bias', tensor([0.3085]))])"
            ]
          },
          "metadata": {},
          "execution_count": 173
        }
      ]
    },
    {
      "cell_type": "code",
      "source": [
        "model_1.eval()\n",
        "\n",
        "with torch.inference_mode():\n",
        "   y_preds=model_1(X_test)\n",
        "\n",
        "\n",
        "len(y_preds)\n",
        "len(y_preds)==len(X_test)"
      ],
      "metadata": {
        "colab": {
          "base_uri": "https://localhost:8080/"
        },
        "id": "hSy7VAgWWN7-",
        "outputId": "5a71d72b-24e2-4529-fdf4-12f8aad52d06"
      },
      "execution_count": null,
      "outputs": [
        {
          "output_type": "execute_result",
          "data": {
            "text/plain": [
              "True"
            ]
          },
          "metadata": {},
          "execution_count": 174
        }
      ]
    },
    {
      "cell_type": "code",
      "source": [
        "plot_predictions(\n",
        "    X_train.squeeze(),\n",
        "    y_train.squeeze(),\n",
        "    X_test.squeeze(),\n",
        "    y_test.squeeze(),\n",
        "    predictions=y_preds.squeeze()\n",
        ")\n"
      ],
      "metadata": {
        "colab": {
          "base_uri": "https://localhost:8080/",
          "height": 445
        },
        "id": "s0XoXnwRW9aA",
        "outputId": "a37a80ef-f15a-4f7b-cd6f-1177f312f025"
      },
      "execution_count": null,
      "outputs": [
        {
          "output_type": "display_data",
          "data": {
            "text/plain": [
              "<Figure size 700x500 with 1 Axes>"
            ],
            "image/png": "[encoded data removed]"
          },
          "metadata": {}
        }
      ]
    },
    {
      "cell_type": "code",
      "source": [
        "from pathlib import Path\n",
        "\n",
        "model_path=Path(\"models\")\n",
        "model_path.mkdir(parents=True,exist_ok=True)\n",
        "\n",
        "model_name =\"01_pytorch_workflow_model_1.pth\"\n",
        "model_save_path=model_path/model_name"
      ],
      "metadata": {
        "id": "TgfXVStiWt3Y"
      },
      "execution_count": null,
      "outputs": []
    },
    {
      "cell_type": "code",
      "source": [
        "torch.save(obj=model_1.state_dict(),f=model_save_path)"
      ],
      "metadata": {
        "id": "J9NbUw0zemXQ"
      },
      "execution_count": null,
      "outputs": []
    },
    {
      "cell_type": "code",
      "source": [
        "loaded_model_1=LinearReg()\n",
        "loaded_model_1.load_state_dict(torch.load(model_save_path))\n",
        "loaded_model_1.to(device)"
      ],
      "metadata": {
        "colab": {
          "base_uri": "https://localhost:8080/"
        },
        "id": "w8OOxgZQpaDS",
        "outputId": "13780197-3625-467e-a63a-6180da16359f"
      },
      "execution_count": null,
      "outputs": [
        {
          "output_type": "execute_result",
          "data": {
            "text/plain": [
              "LinearReg(\n",
              "  (linear_layer): Linear(in_features=1, out_features=1, bias=True)\n",
              ")"
            ]
          },
          "metadata": {},
          "execution_count": 191
        }
      ]
    },
    {
      "cell_type": "code",
      "source": [
        "loaded_model_1.eval()\n",
        "with torch.inference_mode():\n",
        "    loaded_model_1_preds=loaded_model_1(X_test)\n",
        "y_preds==loaded_model_1_preds"
      ],
      "metadata": {
        "colab": {
          "base_uri": "https://localhost:8080/"
        },
        "id": "ryYqlePqp90X",
        "outputId": "d439fe3e-6810-4efa-84b3-3c76272c3b9a"
      },
      "execution_count": null,
      "outputs": [
        {
          "output_type": "execute_result",
          "data": {
            "text/plain": [
              "tensor([[True],\n",
              "        [True],\n",
              "        [True],\n",
              "        [True],\n",
              "        [True],\n",
              "        [True],\n",
              "        [True],\n",
              "        [True],\n",
              "        [True],\n",
              "        [True],\n",
              "        [True],\n",
              "        [True],\n",
              "        [True],\n",
              "        [True],\n",
              "        [True],\n",
              "        [True],\n",
              "        [True],\n",
              "        [True],\n",
              "        [True],\n",
              "        [True]])"
            ]
          },
          "metadata": {},
          "execution_count": 194
        }
      ]
    },
    {
      "cell_type": "code",
      "source": [],
      "metadata": {
        "id": "qdSEhEgqqjTA"
      },
      "execution_count": null,
      "outputs": []
    }
  ]
}