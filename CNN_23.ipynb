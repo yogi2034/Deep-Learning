{
  "cells": [
    {
      "cell_type": "markdown",
      "metadata": {
        "id": "view-in-github",
        "colab_type": "text"
      },
      "source": [
        "<a href=\"https://colab.research.google.com/github/yogi2034/Deep-Learning/blob/main/CNN_23.ipynb\" target=\"_parent\"><img src=\"https://colab.research.google.com/assets/colab-badge.svg\" alt=\"Open In Colab\"/></a>"
      ]
    },
    {
      "cell_type": "code",
      "execution_count": null,
      "id": "c22bdb42",
      "metadata": {
        "id": "c22bdb42"
      },
      "outputs": [],
      "source": [
        "import tensorflow as tf\n",
        "import numpy as np\n",
        "import matplotlib.pyplot as plt\n",
        "from tensorflow.keras import datasets,layers,models"
      ]
    },
    {
      "cell_type": "code",
      "execution_count": null,
      "id": "4477eb49",
      "metadata": {
        "id": "4477eb49",
        "outputId": "4d9b347f-a114-4c10-ebac-6d8505fadcd9"
      },
      "outputs": [
        {
          "name": "stdout",
          "output_type": "stream",
          "text": [
            "Downloading data from https://www.cs.toronto.edu/~kriz/cifar-10-python.tar.gz\n",
            "170498071/170498071 [==============================] - 689s 4us/step\n"
          ]
        },
        {
          "data": {
            "text/plain": [
              "(50000, 32, 32, 3)"
            ]
          },
          "execution_count": 5,
          "metadata": {},
          "output_type": "execute_result"
        }
      ],
      "source": [
        "(X_train, y_train), (X_test,y_test) = datasets.cifar10.load_data()\n",
        "X_train.shape"
      ]
    },
    {
      "cell_type": "code",
      "execution_count": null,
      "id": "2f7ee938",
      "metadata": {
        "id": "2f7ee938"
      },
      "outputs": [],
      "source": []
    },
    {
      "cell_type": "code",
      "execution_count": null,
      "id": "9f7dd050",
      "metadata": {
        "id": "9f7dd050",
        "outputId": "851d9c5a-5689-418f-94f7-c1d0f6eb0ade"
      },
      "outputs": [
        {
          "data": {
            "text/plain": [
              "(50000, 32, 32, 3)"
            ]
          },
          "execution_count": 11,
          "metadata": {},
          "output_type": "execute_result"
        }
      ],
      "source": [
        "X_train.shape"
      ]
    },
    {
      "cell_type": "code",
      "execution_count": null,
      "id": "cb09bb1e",
      "metadata": {
        "id": "cb09bb1e"
      },
      "outputs": [],
      "source": [
        "def sample_plot(X,y)"
      ]
    },
    {
      "cell_type": "code",
      "execution_count": null,
      "id": "17ecb188",
      "metadata": {
        "id": "17ecb188",
        "outputId": "6e55c57e-56f3-4e18-d7e0-586b44635985"
      },
      "outputs": [
        {
          "data": {
            "text/plain": [
              "(50000, 1)"
            ]
          },
          "execution_count": 13,
          "metadata": {},
          "output_type": "execute_result"
        }
      ],
      "source": [
        "y_train.shape"
      ]
    },
    {
      "cell_type": "code",
      "execution_count": null,
      "id": "a4298643",
      "metadata": {
        "id": "a4298643",
        "outputId": "03482903-b2e8-412e-c72a-93f3764d5d7d"
      },
      "outputs": [
        {
          "data": {
            "text/plain": [
              "array([[6],\n",
              "       [9],\n",
              "       [9],\n",
              "       [4],\n",
              "       [1]], dtype=uint8)"
            ]
          },
          "execution_count": 14,
          "metadata": {},
          "output_type": "execute_result"
        }
      ],
      "source": [
        "y_train[:5]"
      ]
    },
    {
      "cell_type": "code",
      "execution_count": null,
      "id": "d1d02a60",
      "metadata": {
        "id": "d1d02a60",
        "outputId": "22ecc7aa-820b-4ea4-c518-5bbff35ec3a7"
      },
      "outputs": [
        {
          "data": {
            "text/plain": [
              "array([6, 9, 9, ..., 9, 1, 1], dtype=uint8)"
            ]
          },
          "execution_count": 15,
          "metadata": {},
          "output_type": "execute_result"
        }
      ],
      "source": [
        "y_train=y_train.reshape(-1,)\n",
        "y_train"
      ]
    },
    {
      "cell_type": "code",
      "execution_count": null,
      "id": "2cd2f93d",
      "metadata": {
        "id": "2cd2f93d"
      },
      "outputs": [],
      "source": [
        "y_test = y_test.reshape(-1,)"
      ]
    },
    {
      "cell_type": "code",
      "execution_count": null,
      "id": "99b89e48",
      "metadata": {
        "id": "99b89e48"
      },
      "outputs": [],
      "source": [
        "classes = [\"airplane\",\"automobile\",\"bird\",\"cat\",\"deer\",\"dog\",\"frog\",\"horse\",\"ship\",\"truck\"]"
      ]
    },
    {
      "cell_type": "code",
      "execution_count": null,
      "id": "84215497",
      "metadata": {
        "id": "84215497"
      },
      "outputs": [],
      "source": [
        "def plot_sample(X,y,index):\n",
        "    plt.figure(figsize=(2,3))\n",
        "    plt.imshow(X[index])\n",
        "    plt.xlabel(classes[y[index]])\n",
        "\n"
      ]
    },
    {
      "cell_type": "code",
      "execution_count": null,
      "id": "754a15e3",
      "metadata": {
        "id": "754a15e3",
        "outputId": "00b2cf40-2784-4a67-cb88-5d19de1dd4cf"
      },
      "outputs": [
        {
          "data": {
            "image/png": "[encoded data removed]",
            "text/plain": [
              "<Figure size 200x300 with 1 Axes>"
            ]
          },
          "metadata": {},
          "output_type": "display_data"
        }
      ],
      "source": [
        "plot_sample(X_train,y_train,1)"
      ]
    },
    {
      "cell_type": "code",
      "execution_count": null,
      "id": "b7aa6a19",
      "metadata": {
        "id": "b7aa6a19"
      },
      "outputs": [],
      "source": [
        "X_train = X_train / 255.0\n",
        "X_test = X_test / 255.0\n"
      ]
    },
    {
      "cell_type": "code",
      "execution_count": null,
      "id": "14e44dd8",
      "metadata": {
        "id": "14e44dd8",
        "outputId": "62fba6fd-b47c-4926-c490-f16bab808cb5"
      },
      "outputs": [
        {
          "name": "stdout",
          "output_type": "stream",
          "text": [
            "Epoch 1/5\n",
            "1563/1563 [==============================] - 116s 73ms/step - loss: 1.8091 - accuracy: 0.3546\n",
            "Epoch 2/5\n",
            "1563/1563 [==============================] - 112s 71ms/step - loss: 1.6232 - accuracy: 0.4252\n",
            "Epoch 3/5\n",
            "1563/1563 [==============================] - 114s 73ms/step - loss: 1.5420 - accuracy: 0.4574\n",
            "Epoch 4/5\n",
            "1563/1563 [==============================] - 188s 120ms/step - loss: 1.4829 - accuracy: 0.4780\n",
            "Epoch 5/5\n",
            "1563/1563 [==============================] - 186s 119ms/step - loss: 1.4332 - accuracy: 0.4964\n"
          ]
        },
        {
          "data": {
            "text/plain": [
              "<keras.src.callbacks.History at 0x1f4153f20a0>"
            ]
          },
          "execution_count": 26,
          "metadata": {},
          "output_type": "execute_result"
        }
      ],
      "source": [
        "ann = models.Sequential([\n",
        "        layers.Flatten(input_shape=(32,32,3)),\n",
        "        layers.Dense(3000, activation='relu'),\n",
        "        layers.Dense(1000, activation='relu'),\n",
        "        layers.Dense(10, activation='softmax')\n",
        "    ])\n",
        "\n",
        "ann.compile(optimizer='SGD',\n",
        "              loss='sparse_categorical_crossentropy',\n",
        "              metrics=['accuracy'])\n",
        "\n",
        "ann.fit(X_train, y_train, epochs=5)"
      ]
    },
    {
      "cell_type": "code",
      "execution_count": null,
      "id": "6b8c50c7",
      "metadata": {
        "id": "6b8c50c7",
        "outputId": "1c208ee3-99d6-4c30-e87b-0d82f014852a"
      },
      "outputs": [
        {
          "name": "stdout",
          "output_type": "stream",
          "text": [
            "313/313 [==============================] - 8s 23ms/step\n",
            "Classification Report: \n",
            "               precision    recall  f1-score   support\n",
            "\n",
            "           0       0.49      0.66      0.56      1000\n",
            "           1       0.69      0.51      0.59      1000\n",
            "           2       0.37      0.44      0.40      1000\n",
            "           3       0.38      0.20      0.26      1000\n",
            "           4       0.52      0.29      0.37      1000\n",
            "           5       0.33      0.50      0.40      1000\n",
            "           6       0.54      0.50      0.52      1000\n",
            "           7       0.46      0.66      0.54      1000\n",
            "           8       0.71      0.51      0.59      1000\n",
            "           9       0.56      0.58      0.57      1000\n",
            "\n",
            "    accuracy                           0.48     10000\n",
            "   macro avg       0.50      0.48      0.48     10000\n",
            "weighted avg       0.50      0.48      0.48     10000\n",
            "\n"
          ]
        }
      ],
      "source": [
        "from sklearn.metrics import confusion_matrix , classification_report\n",
        "import numpy as np\n",
        "y_pred = ann.predict(X_test)\n",
        "y_pred_classes = [np.argmax(element) for element in y_pred]\n",
        "\n",
        "print(\"Classification Report: \\n\", classification_report(y_test, y_pred_classes))"
      ]
    },
    {
      "cell_type": "code",
      "execution_count": null,
      "id": "f3e6b5c6",
      "metadata": {
        "id": "f3e6b5c6",
        "outputId": "18d568c2-a8fc-44f0-bcd7-55c748f79843"
      },
      "outputs": [
        {
          "name": "stdout",
          "output_type": "stream",
          "text": [
            "Epoch 1/10\n",
            "1563/1563 [==============================] - 63s 39ms/step - loss: 1.4815 - accuracy: 0.4681\n",
            "Epoch 2/10\n",
            "1563/1563 [==============================] - 67s 43ms/step - loss: 1.1112 - accuracy: 0.6118\n",
            "Epoch 3/10\n",
            "1563/1563 [==============================] - 54s 35ms/step - loss: 0.9771 - accuracy: 0.6606\n",
            "Epoch 4/10\n",
            "1563/1563 [==============================] - 32s 21ms/step - loss: 0.8901 - accuracy: 0.6909\n",
            "Epoch 5/10\n",
            "1563/1563 [==============================] - 32s 21ms/step - loss: 0.8271 - accuracy: 0.7139\n",
            "Epoch 6/10\n",
            "1563/1563 [==============================] - 47s 30ms/step - loss: 0.7692 - accuracy: 0.7326\n",
            "Epoch 7/10\n",
            "1563/1563 [==============================] - 47s 30ms/step - loss: 0.7176 - accuracy: 0.7487\n",
            "Epoch 8/10\n",
            "1563/1563 [==============================] - 73s 47ms/step - loss: 0.6716 - accuracy: 0.7664\n",
            "Epoch 9/10\n",
            "1563/1563 [==============================] - 41s 26ms/step - loss: 0.6303 - accuracy: 0.7790\n",
            "Epoch 10/10\n",
            "1563/1563 [==============================] - 46s 29ms/step - loss: 0.5947 - accuracy: 0.7925\n"
          ]
        },
        {
          "data": {
            "text/plain": [
              "<keras.src.callbacks.History at 0x1f417146d30>"
            ]
          },
          "execution_count": 30,
          "metadata": {},
          "output_type": "execute_result"
        }
      ],
      "source": [
        "cnn = models.Sequential([\n",
        "    layers.Conv2D(filters=32, kernel_size=(3, 3), activation='relu', input_shape=(32, 32, 3)),\n",
        "    layers.MaxPooling2D((2, 2)),\n",
        "\n",
        "    layers.Conv2D(filters=64, kernel_size=(3, 3), activation='relu'),\n",
        "    layers.MaxPooling2D((2, 2)),\n",
        "\n",
        "    layers.Flatten(),\n",
        "    layers.Dense(64, activation='relu'),\n",
        "    layers.Dense(10, activation='softmax')\n",
        "])\n",
        "cnn.compile(optimizer='adam',\n",
        "              loss='sparse_categorical_crossentropy',\n",
        "              metrics=['accuracy'])\n",
        "cnn.fit(X_train, y_train, epochs=10)"
      ]
    },
    {
      "cell_type": "code",
      "execution_count": null,
      "id": "9b1b827e",
      "metadata": {
        "id": "9b1b827e",
        "outputId": "655b7070-4d34-41c6-a9f6-32526bbada5c"
      },
      "outputs": [
        {
          "name": "stdout",
          "output_type": "stream",
          "text": [
            "1563/1563 [==============================] - 33s 21ms/step - loss: 0.3207 - accuracy: 0.8859\n"
          ]
        },
        {
          "data": {
            "text/plain": [
              "<keras.src.callbacks.History at 0x1f417044910>"
            ]
          },
          "execution_count": 35,
          "metadata": {},
          "output_type": "execute_result"
        }
      ],
      "source": [
        "cnn.fit(X_train, y_train, epochs=1)"
      ]
    },
    {
      "cell_type": "code",
      "execution_count": null,
      "id": "f7b188da",
      "metadata": {
        "id": "f7b188da",
        "outputId": "4f0f2b5c-6f3f-4513-d8ee-da6690ae89da"
      },
      "outputs": [
        {
          "name": "stdout",
          "output_type": "stream",
          "text": [
            "Epoch 1/3\n",
            "1563/1563 [==============================] - 60s 39ms/step - loss: 0.5254 - accuracy: 0.8148\n",
            "Epoch 2/3\n",
            "1563/1563 [==============================] - 64s 41ms/step - loss: 0.4957 - accuracy: 0.8230\n",
            "Epoch 3/3\n",
            "1563/1563 [==============================] - 60s 39ms/step - loss: 0.4704 - accuracy: 0.8339\n"
          ]
        },
        {
          "data": {
            "text/plain": [
              "<keras.src.callbacks.History at 0x1f4176c6310>"
            ]
          },
          "execution_count": 32,
          "metadata": {},
          "output_type": "execute_result"
        }
      ],
      "source": [
        "cnn.fit(X_train, y_train, epochs=3)"
      ]
    },
    {
      "cell_type": "code",
      "execution_count": null,
      "id": "48e70a2f",
      "metadata": {
        "id": "48e70a2f",
        "outputId": "3476a6c0-af3d-4686-a6e4-e8c8f2f7c0ac"
      },
      "outputs": [
        {
          "name": "stdout",
          "output_type": "stream",
          "text": [
            "313/313 [==============================] - 3s 9ms/step - loss: 1.3107 - accuracy: 0.6841\n"
          ]
        },
        {
          "data": {
            "text/plain": [
              "[1.310729742050171, 0.6840999722480774]"
            ]
          },
          "execution_count": 36,
          "metadata": {},
          "output_type": "execute_result"
        }
      ],
      "source": [
        "cnn.evaluate(X_test,y_test)"
      ]
    },
    {
      "cell_type": "code",
      "execution_count": null,
      "id": "31927990",
      "metadata": {
        "id": "31927990",
        "outputId": "5912aae7-ba80-4191-9b45-13f0dfe24b69"
      },
      "outputs": [
        {
          "name": "stdout",
          "output_type": "stream",
          "text": [
            "Epoch 1/5\n",
            "1563/1563 [==============================] - 61s 39ms/step - loss: 0.4367 - accuracy: 0.8445\n",
            "Epoch 2/5\n",
            "1563/1563 [==============================] - 38s 24ms/step - loss: 0.4161 - accuracy: 0.8514\n",
            "Epoch 3/5\n",
            "1563/1563 [==============================] - 33s 21ms/step - loss: 0.3879 - accuracy: 0.8628\n",
            "Epoch 4/5\n",
            "1563/1563 [==============================] - 32s 20ms/step - loss: 0.3643 - accuracy: 0.8716\n",
            "Epoch 5/5\n",
            "1563/1563 [==============================] - 32s 20ms/step - loss: 0.3383 - accuracy: 0.8801\n"
          ]
        },
        {
          "data": {
            "text/plain": [
              "<keras.src.callbacks.History at 0x1f41774cee0>"
            ]
          },
          "execution_count": 33,
          "metadata": {},
          "output_type": "execute_result"
        }
      ],
      "source": [
        "cnn.fit(X_train, y_train, epochs=5)"
      ]
    },
    {
      "cell_type": "code",
      "execution_count": null,
      "id": "07cf73fb",
      "metadata": {
        "id": "07cf73fb",
        "outputId": "24541f18-bdb8-4cd0-f26b-099c0670cf69"
      },
      "outputs": [
        {
          "name": "stdout",
          "output_type": "stream",
          "text": [
            "313/313 [==============================] - 4s 12ms/step - loss: 1.2333 - accuracy: 0.6938\n"
          ]
        },
        {
          "data": {
            "text/plain": [
              "[1.233261227607727, 0.6937999725341797]"
            ]
          },
          "execution_count": 34,
          "metadata": {},
          "output_type": "execute_result"
        }
      ],
      "source": [
        "cnn.evaluate(X_test,y_test)"
      ]
    },
    {
      "cell_type": "code",
      "execution_count": null,
      "id": "1c973d33",
      "metadata": {
        "id": "1c973d33",
        "outputId": "85a241e0-c61d-4912-927f-56bccdcd1646"
      },
      "outputs": [
        {
          "name": "stdout",
          "output_type": "stream",
          "text": [
            "313/313 [==============================] - 3s 8ms/step\n"
          ]
        },
        {
          "data": {
            "text/plain": [
              "array([[4.3768878e-04, 1.5825414e-07, 2.1484592e-04, 9.6295488e-01,\n",
              "        1.9471968e-06, 2.8982483e-02, 2.9767616e-04, 1.5615101e-06,\n",
              "        7.1077682e-03, 9.4476820e-07],\n",
              "       [2.4299245e-06, 8.4434845e-04, 1.4268999e-09, 1.7544171e-13,\n",
              "        1.5023129e-14, 1.9631721e-13, 5.7474156e-12, 7.8146606e-19,\n",
              "        9.9901628e-01, 1.3690778e-04],\n",
              "       [7.0845686e-02, 9.6138188e-04, 3.2348111e-05, 3.8858959e-03,\n",
              "        1.2865870e-01, 2.3635924e-04, 2.8748840e-07, 8.8407241e-02,\n",
              "        6.0760689e-01, 9.9365227e-02],\n",
              "       [9.4442707e-01, 7.8659927e-05, 4.4320561e-03, 7.2510826e-05,\n",
              "        3.7584625e-05, 1.0019905e-05, 4.0932005e-06, 6.6364625e-09,\n",
              "        5.0797205e-02, 1.4076618e-04],\n",
              "       [5.2772929e-08, 1.5642777e-06, 4.7121081e-05, 3.6872715e-01,\n",
              "        2.3740266e-01, 1.6438570e-04, 3.9365360e-01, 2.9946566e-08,\n",
              "        3.3792553e-06, 1.3807777e-07]], dtype=float32)"
            ]
          },
          "execution_count": 37,
          "metadata": {},
          "output_type": "execute_result"
        }
      ],
      "source": [
        "y_pred = cnn.predict(X_test)\n",
        "y_pred[:5]"
      ]
    },
    {
      "cell_type": "code",
      "execution_count": null,
      "id": "d9464757",
      "metadata": {
        "id": "d9464757"
      },
      "outputs": [],
      "source": [
        "y_classes = [np.argmax(element) for element in y_pred]"
      ]
    },
    {
      "cell_type": "code",
      "execution_count": null,
      "id": "0288e7cd",
      "metadata": {
        "id": "0288e7cd",
        "outputId": "1477b539-797c-4f91-b7e7-ca5fde1727f4"
      },
      "outputs": [
        {
          "data": {
            "text/plain": [
              "'frog'"
            ]
          },
          "execution_count": 40,
          "metadata": {},
          "output_type": "execute_result"
        }
      ],
      "source": [
        "classes[y_classes[49]]"
      ]
    },
    {
      "cell_type": "code",
      "execution_count": null,
      "id": "dcddd55b",
      "metadata": {
        "id": "dcddd55b",
        "outputId": "ff5df24e-c24a-427f-acb4-2687689599c8"
      },
      "outputs": [
        {
          "data": {
            "image/png": "[encoded data removed]",
            "text/plain": [
              "<Figure size 200x300 with 1 Axes>"
            ]
          },
          "metadata": {},
          "output_type": "display_data"
        }
      ],
      "source": [
        "plot_sample(X_test, y_test,49)"
      ]
    },
    {
      "cell_type": "code",
      "execution_count": null,
      "id": "97e395bb",
      "metadata": {
        "id": "97e395bb"
      },
      "outputs": [],
      "source": []
    }
  ],
  "metadata": {
    "kernelspec": {
      "display_name": "Python 3 (ipykernel)",
      "language": "python",
      "name": "python3"
    },
    "language_info": {
      "codemirror_mode": {
        "name": "ipython",
        "version": 3
      },
      "file_extension": ".py",
      "mimetype": "text/x-python",
      "name": "python",
      "nbconvert_exporter": "python",
      "pygments_lexer": "ipython3",
      "version": "3.9.13"
    },
    "colab": {
      "provenance": [],
      "include_colab_link": true
    }
  },
  "nbformat": 4,
  "nbformat_minor": 5
}